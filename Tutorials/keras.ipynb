{
 "cells": [
  {
   "cell_type": "code",
   "execution_count": 3,
   "metadata": {},
   "outputs": [],
   "source": [
    "from keras.datasets import mnist\n",
    "import numpy as np\n",
    "np.random.seed(7)\n",
    "\n",
    "from keras.models import Sequential\n",
    "from keras.layers import Dense, Dropout, Flatten\n",
    "from keras.layers.convolutional import Conv2D, MaxPooling2D\n",
    "from keras.utils import np_utils"
   ]
  },
  {
   "cell_type": "code",
   "execution_count": 5,
   "metadata": {},
   "outputs": [],
   "source": [
    "(X_train, y_train), (X_test, y_test) = mnist.load_data()"
   ]
  },
  {
   "cell_type": "code",
   "execution_count": 9,
   "metadata": {},
   "outputs": [],
   "source": [
    "def get_data_simpleNN(X_train, y_train, X_test, y_test):\n",
    "    print(\"Shape before:\", X_train.shape)\n",
    "    num_pixels = X_train.shape[1] * X_train.shape[2]\n",
    "    # Flatten the 2D array of 28x28 into 784 vector. Total shape goes from 60000, 28, 28 to 60000, 784\n",
    "    X_train = X_train.reshape(X_train.shape[0], num_pixels).astype('float32')\n",
    "    X_test = X_test.reshape(X_test.shape[0], num_pixels).astype('float32')\n",
    "    print(\"Shape after:\", X_train.shape)\n",
    "\n",
    "    # Normalise the input values. Currently it goes from 0 to 255.\n",
    "    X_train = X_train / 255\n",
    "    X_test = X_test / 255\n",
    "    \n",
    "    y_train = np_utils.to_categorical(y_train) # So 5 becomes [0, 0, 0, 0, 0, 1, 0, 0, 0, 0] since here 10 labels\n",
    "    y_test = np_utils.to_categorical(y_test)\n",
    "    num_classes = y_test.shape[1]\n",
    "    \n",
    "    return X_train, y_train, X_test, y_test, num_classes\n",
    "\n",
    "\n",
    "def get_data_CNN(X_train, y_train, X_test, y_test):\n",
    "    # For CNN the dimension should be [width][height][channes] for each input where [channels] is the number of colour channels \n",
    "    # in image. Here we use grayscale so it has value 1. This is the default formal. See argument data_format in Conv2D in Keras.\n",
    "    X_train = X_train.reshape(X_train.shape[0], 28, 28, 1).astype('float32')\n",
    "    X_test = X_test.reshape(X_test.shape[0], 28, 28, 1).astype('float32')\n",
    "    \n",
    "    X_train = X_train / 255\n",
    "    X_test = X_test / 255\n",
    "    \n",
    "    y_train = np_utils.to_categorical(y_train) # So 5 becomes [0, 0, 0, 0, 0, 1, 0, 0, 0, 0] since here 10 labels\n",
    "    y_test = np_utils.to_categorical(y_test)\n",
    "    num_classes = y_test.shape[1]\n",
    "    \n",
    "    return X_train, y_train, X_test, y_test, num_classes"
   ]
  },
  {
   "cell_type": "code",
   "execution_count": 10,
   "metadata": {},
   "outputs": [],
   "source": [
    "def baseline_model_NN(num_classes):\n",
    "    model = Sequential()\n",
    "    # We have one unit per input. Only one hidden layer here\n",
    "    model.add(Dense(num_pixels, input_dim=num_pixels, activation='relu', kernel_initializer='normal'))\n",
    "    # Output layer where we use one unit per class label. Use of softmax activation gives a probability distribution over outputs\n",
    "    model.add(Dense(num_classes, kernel_initializer='normal', activation='softmax'))\n",
    "    model.compile(loss='categorical_crossentropy', optimizer='adam', metrics=['accuracy'])\n",
    "    return model\n",
    "\n",
    "\n",
    "def baseline_model_CNN(num_classes):\n",
    "    model = Sequential()\n",
    "    model.add(Conv2D(32, (5, 5), input_shape=(28, 28, 1), activation='relu'))\n",
    "    model.add(MaxPooling2D(pool_size=(2, 2)))\n",
    "    model.add(Dropout(0.2))\n",
    "    model.add(Flatten())\n",
    "    model.add(Dense(128, activation='relu'))\n",
    "    model.add(Dense(num_classes, activation='softmax'))\n",
    "    \n",
    "    model.compile(loss='categorical_crossentropy', optimizer='adam', metrics=['accuracy'])\n",
    "    return model"
   ]
  },
  {
   "cell_type": "code",
   "execution_count": 11,
   "metadata": {},
   "outputs": [
    {
     "name": "stdout",
     "output_type": "stream",
     "text": [
      "Train on 60000 samples, validate on 10000 samples\n",
      "Epoch 1/10\n",
      " - 10s - loss: 0.2440 - acc: 0.9311 - val_loss: 0.0739 - val_acc: 0.9775\n",
      "Epoch 2/10\n",
      " - 5s - loss: 0.0705 - acc: 0.9789 - val_loss: 0.0525 - val_acc: 0.9822\n",
      "Epoch 3/10\n",
      " - 5s - loss: 0.0513 - acc: 0.9848 - val_loss: 0.0400 - val_acc: 0.9873\n",
      "Epoch 4/10\n",
      " - 5s - loss: 0.0384 - acc: 0.9887 - val_loss: 0.0393 - val_acc: 0.9868\n",
      "Epoch 5/10\n",
      " - 5s - loss: 0.0316 - acc: 0.9906 - val_loss: 0.0330 - val_acc: 0.9886\n",
      "Epoch 6/10\n",
      " - 5s - loss: 0.0281 - acc: 0.9914 - val_loss: 0.0352 - val_acc: 0.9871\n",
      "Epoch 7/10\n",
      " - 5s - loss: 0.0216 - acc: 0.9934 - val_loss: 0.0359 - val_acc: 0.9887\n",
      "Epoch 8/10\n",
      " - 5s - loss: 0.0187 - acc: 0.9937 - val_loss: 0.0313 - val_acc: 0.9902\n",
      "Epoch 9/10\n",
      " - 5s - loss: 0.0155 - acc: 0.9951 - val_loss: 0.0330 - val_acc: 0.9896\n",
      "Epoch 10/10\n",
      " - 5s - loss: 0.0134 - acc: 0.9957 - val_loss: 0.0340 - val_acc: 0.9893\n",
      "Error: 1.07\n"
     ]
    }
   ],
   "source": [
    "X_train_CNN, y_train_CNN, X_test_CNN, y_test_CNN, num_classes = get_data_CNN(X_train, y_train, X_test, y_test)\n",
    "model = baseline_model_CNN(num_classes)\n",
    "model.fit(X_train_CNN, y_train_CNN, validation_data=(X_test_CNN, y_test_CNN), epochs=10, batch_size=200, verbose=2)\n",
    "scores = model.evaluate(X_test_CNN, y_test_CNN, verbose=0)\n",
    "\n",
    "print(\"Error:\", 100-scores[1]*100)"
   ]
  },
  {
   "cell_type": "code",
   "execution_count": null,
   "metadata": {},
   "outputs": [],
   "source": []
  }
 ],
 "metadata": {
  "kernelspec": {
   "display_name": "Python 3",
   "language": "python",
   "name": "python3"
  },
  "language_info": {
   "codemirror_mode": {
    "name": "ipython",
    "version": 3
   },
   "file_extension": ".py",
   "mimetype": "text/x-python",
   "name": "python",
   "nbconvert_exporter": "python",
   "pygments_lexer": "ipython3",
   "version": "3.5.1"
  }
 },
 "nbformat": 4,
 "nbformat_minor": 2
}
