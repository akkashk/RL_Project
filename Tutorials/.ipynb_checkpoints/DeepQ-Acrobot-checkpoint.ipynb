{
 "cells": [
  {
   "cell_type": "code",
   "execution_count": 3,
   "metadata": {},
   "outputs": [],
   "source": [
    "import random\n",
    "import gym\n",
    "import numpy as np\n",
    "from keras.models import Sequential\n",
    "from keras.layers import Dense\n",
    "from keras.optimizers import Adam\n",
    "\n",
    "from IPython import display\n",
    "import matplotlib.pyplot as plt"
   ]
  },
  {
   "cell_type": "code",
   "execution_count": 13,
   "metadata": {},
   "outputs": [],
   "source": [
    "class DQNAgent:\n",
    "    \n",
    "    def __init__(self, state_size, action_size):\n",
    "        self.state_size = state_size\n",
    "        self.action_size = action_size\n",
    "        self.memory_pos = []\n",
    "        self.memory_neg = []\n",
    "        self.gamma = 0.95  # Discount rate\n",
    "        self.epsilon = 1.0  # exploration rate\n",
    "        self.epsilon_min = 0.01\n",
    "        self.epsilon_decay = 0.99  # Closer to one the slower epsilon decays\n",
    "        self.learning_rate = 0.001\n",
    "        self.model = self._build_model()\n",
    "\n",
    "\n",
    "    def _build_model(self):\n",
    "        model = Sequential()\n",
    "        model.add(Dense(24, input_dim=self.state_size, activation='relu'))\n",
    "        model.add(Dense(24, activation='relu'))\n",
    "        model.add(Dense(self.action_size, activation='linear'))\n",
    "        model.compile(loss='mse', optimizer=Adam(lr=self.learning_rate))\n",
    "        return model\n",
    "    \n",
    "    \n",
    "    def remember(self, state, action, reward, next_state, done):\n",
    "        # For Atari gym, positive rewards good and negative rewards bad\n",
    "        if reward < 0:\n",
    "            self.memory_neg.append((state, action, reward, next_state, done))\n",
    "        else:\n",
    "            self.memory_pos.append((state, action, reward, next_state, done))\n",
    "        \n",
    "        \n",
    "    def act(self, state):\n",
    "        if np.random.rand() <= self.epsilon:\n",
    "            return random.randrange(self.action_size)\n",
    "        act_values = self.model.predict(state)[0]\n",
    "        return np.argmax(act_values)\n",
    "    \n",
    "    \n",
    "    def replay(self, batch_size):\n",
    "        \"\"\"\n",
    "        We randomly choose 'batch_size' number of action-reward from start of training and update NN with it.\n",
    "        If past is dominated by negative experince, could result in very few positive examples to learn NN. Either increase \n",
    "        batch_size for this OR ensure we get a good mix of all possible reards when choosing from past experiences.\n",
    "        \"\"\"\n",
    "        batch_size = min(batch_size, len(self.memory_neg))  # random.sample throws error is batch_size > length of list\n",
    "        mini_batch = random.sample(self.memory_neg, batch_size)  # Samples with bad reward\n",
    "        \n",
    "        batch_size = min(15, len(self.memory_pos))\n",
    "        mini_batch.extend(random.sample(self.memory_pos, batch_size))  # Samples with good reward\n",
    "        \n",
    "        xs = []\n",
    "        ys = []\n",
    "        \n",
    "        for state, action, reward, next_state, done in mini_batch:\n",
    "            target = reward\n",
    "            if not done:\n",
    "                target = reward + self.gamma * np.amax(self.model.predict(next_state)[0])\n",
    "            target_f = self.model.predict(state)[0]\n",
    "            target_f[action] = target\n",
    "            target_f = target_f.reshape(1, len(target_f))  # Output of a layer has shape (*, x), here (*, 2)\n",
    "#             self.model.fit(state, target_f, epochs=1, verbose=0)\n",
    "            xs.append(state.squeeze())\n",
    "            ys.append(target_f.squeeze())\n",
    "        \n",
    "        xs = np.array(xs)\n",
    "        ys = np.array(ys)\n",
    "        self.model.fit(xs, ys, epochs=1, verbose=0, batch_size=47)  # Change batch_size to see how training changes, lower seems to be better here\n",
    "\n",
    "        if self.epsilon > self.epsilon_min:\n",
    "            self.epsilon *= self.epsilon_decay"
   ]
  },
  {
   "cell_type": "code",
   "execution_count": null,
   "metadata": {},
   "outputs": [],
   "source": [
    "EPISODES = 200\n",
    "\n",
    "ENV_NAME = 'Acrobot-v1'\n",
    "env = gym.make(ENV_NAME)\n",
    "state_size = env.observation_space.shape[0]\n",
    "action_size = env.action_space.n\n",
    "agent = DQNAgent(state_size, action_size)\n",
    "batch_size = 32\n",
    "\n",
    "for e in range(EPISODES):\n",
    "    state = env.reset()\n",
    "    state = np.reshape(state, [1, state_size])\n",
    "    for time in range(1000):\n",
    "        action = agent.act(state)\n",
    "        next_state, reward, done, _ = env.step(action)\n",
    "        reward = reward # if not done else -10\n",
    "        next_state = np.reshape(next_state, (1, state_size))\n",
    "        agent.remember(state, action, reward, next_state, done)\n",
    "        state = next_state\n",
    "        \n",
    "        if done:\n",
    "            break\n",
    "            \n",
    "    print(\"episode: {}/{}, score: {}, e: {:.2}\".format(e, EPISODES, reward, agent.epsilon))\n",
    "    \n",
    "    agent.replay(batch_size)"
   ]
  },
  {
   "cell_type": "code",
   "execution_count": 9,
   "metadata": {},
   "outputs": [
    {
     "name": "stdout",
     "output_type": "stream",
     "text": [
      "Total reward: -500.0\n"
     ]
    }
   ],
   "source": [
    "# Use the trained agent (DQN) to play a game\n",
    "state = env.reset()\n",
    "state = np.reshape(state, [1, state_size])\n",
    "totalreward = 0\n",
    "frames = []\n",
    "for _ in range(1000):  # Each episode is run for 100 timesteps\n",
    "    frames.append(env.render(mode='rgb_array'))\n",
    "    action = agent.act(state)\n",
    "    next_state, reward, done, info = env.step(action)\n",
    "    state = np.reshape(next_state, [1, state_size])\n",
    "    totalreward += reward\n",
    "    if done:\n",
    "        break\n",
    "        \n",
    "frames.append(env.render(mode='rgb_array'))\n",
    "print(\"Total reward:\", totalreward)"
   ]
  },
  {
   "cell_type": "code",
   "execution_count": 10,
   "metadata": {},
   "outputs": [
    {
     "data": {
      "image/png": "[encoded data removed]",
      "text/plain": [
       "<matplotlib.figure.Figure at 0x7fcd872035c0>"
      ]
     },
     "metadata": {},
     "output_type": "display_data"
    }
   ],
   "source": [
    "# Display the game\n",
    "img = plt.imshow(frames[0]) # only call this once\n",
    "for f in frames[-25:]:  #[-25:]:  If you only need to look at the last few seconds or [1:]: for the entire video\n",
    "    img.set_data(f)\n",
    "    display.display(plt.gcf())\n",
    "    display.clear_output(wait=True)"
   ]
  },
  {
   "cell_type": "code",
   "execution_count": null,
   "metadata": {},
   "outputs": [],
   "source": []
  }
 ],
 "metadata": {
  "kernelspec": {
   "display_name": "Python 3",
   "language": "python",
   "name": "python3"
  },
  "language_info": {
   "codemirror_mode": {
    "name": "ipython",
    "version": 3
   },
   "file_extension": ".py",
   "mimetype": "text/x-python",
   "name": "python",
   "nbconvert_exporter": "python",
   "pygments_lexer": "ipython3",
   "version": "3.5.1"
  }
 },
 "nbformat": 4,
 "nbformat_minor": 2
}
